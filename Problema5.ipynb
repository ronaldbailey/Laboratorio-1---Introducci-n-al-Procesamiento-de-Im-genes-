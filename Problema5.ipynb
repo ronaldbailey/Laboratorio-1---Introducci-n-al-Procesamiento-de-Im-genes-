{
 "cells": [
  {
   "cell_type": "markdown",
   "metadata": {},
   "source": [
    "El espacio de color HSV (Hue, Saturation, Value) es un modelo de color que se utiliza comúnmente en aplicaciones de gráficos por computadora y en la edición de imágenes digitales. En este modelo, los colores se representan en términos de su tono (Hue), saturación (Saturation) y valor (Value).\n",
    "\n",
    "Hue (H): Representa el color en sí. Se mide en grados, de 0 a 360, donde cada grado corresponde a un color en el espectro visible. Por ejemplo, 0 grados es rojo, 120 grados es verde y 240 grados es azul.\n",
    "\n",
    "Saturation (S): Representa la intensidad o pureza del color. Se mide en porcentaje, de 0 a 100. Un valor de saturación de 0% corresponde a un color completamente desaturado (gris), mientras que un valor de 100% corresponde a un color completamente saturado (puro).\n",
    "\n",
    "Value (V): Representa la luminosidad del color. También se mide en porcentaje, de 0 a 100. Un valor de 0% corresponde a negro (sin luz), mientras que un valor de 100% corresponde a la luminosidad máxima (blanco, si la saturación es 0).\n",
    "\n",
    "El espacio de color HSV se puede visualizar como un cilindro, donde el ángulo alrededor del eje vertical representa el tono, la distancia desde el eje representa la saturación, y la altura representa el valor.\n",
    "\n",
    "Para mapear colores en este espacio, se puede comenzar seleccionando un tono en el espectro visible, luego ajustar la saturación y el valor para obtener el color deseado. Por ejemplo, para obtener un color rojo puro, se seleccionaría un tono de 0 grados, una saturación de 100% y un valor de 100%."
   ]
  },
  {
   "cell_type": "markdown",
   "metadata": {},
   "source": [
    "![Alt text](Lab1/graphviz.svg)"
   ]
  },
  {
   "cell_type": "markdown",
   "metadata": {},
   "source": [
    "https://dreampuf.github.io/GraphvizOnline/#digraph%20HSV%20%7B%0D%0A%20%20%20%20node%20%5Bshape%3Dbox%2C%20style%3Dfilled%2C%20color%3Dlightblue%5D%3B%0D%0A%20%20%20%20HSV%20%5Blabel%3D%22Espacio%20de%20Color%20HSV%22%5D%0D%0A%20%20%20%20%0D%0A%20%20%20%20Matiz%20%5Blabel%3D%22Matiz%20(Hue)%22%5D%0D%0A%20%20%20%20MatizDetalles%20%5Blabel%3D%22-%20Representa%20el%20color%5Cn-%20Rango%3A%200%20a%20360%20grados%22%5D%0D%0A%20%20%20%20%0D%0A%20%20%20%20Saturacion%20%5Blabel%3D%22Saturaci%C3%B3n%20(Saturation)%22%5D%0D%0A%20%20%20%20SaturacionDetalles%20%5Blabel%3D%22-%20Representa%20la%20dominancia%20del%20matiz%5Cn-%20Rango%3A%200%20a%20100%25%22%5D%0D%0A%20%20%20%20%0D%0A%20%20%20%20Valor%20%5Blabel%3D%22Valor%20(Value)%22%5D%0D%0A%20%20%20%20ValorDetalles%20%5Blabel%3D%22-%20Representa%20el%20brillo%20del%20color%5Cn-%20Rango%3A%200%20a%20100%25%22%5D%0D%0A%20%20%20%20%0D%0A%20%20%20%20Mapeo%20%5Blabel%3D%22Mapeo%20de%20Colores%22%5D%0D%0A%20%20%20%20MapeoDetalles%20%5Blabel%3D%22-%20El%20matiz%20se%20mapea%20a%20un%20punto%20en%20el%20c%C3%ADrculo%20crom%C3%A1tico%5Cn-%20La%20saturaci%C3%B3n%20es%20la%20distancia%20desde%20el%20centro%20del%20c%C3%ADrculo%5Cn-%20El%20valor%20es%20la%20luminosidad%20del%20color%22%5D%0D%0A%20%20%20%20%0D%0A%20%20%20%20Ventajas%20%5Blabel%3D%22Ventajas%20del%20HSV%22%5D%0D%0A%20%20%20%20VentajasDetalles%20%5Blabel%3D%22-%20M%C3%A1s%20intuitivo%20para%20los%20humanos%20que%20el%20RGB%5Cn-%20Separaci%C3%B3n%20clara%20entre%20la%20informaci%C3%B3n%20de%20color%20(Hue)%20y%20la%20informaci%C3%B3n%20de%20luminosidad%20(Value)%5Cn-%20%C3%9Atil%20para%20aplicaciones%20de%20procesamiento%20de%20im%C3%A1genes%2C%20como%20la%20detecci%C3%B3n%20de%20colores%20y%20la%20segmentaci%C3%B3n%20de%20im%C3%A1genes%22%5D%0D%0A%20%20%20%20%0D%0A%20%20%20%20CirculoCromatico%20%5Blabel%3D%22C%C3%ADrculo%20Crom%C3%A1tico%22%5D%0D%0A%20%20%20%20CirculoCromaticoDetalles%20%5Blabel%3D%22-%20Representaci%C3%B3n%20circular%20de%20los%20colores%5Cn-%20Los%20colores%20primarios%20y%20secundarios%20est%C3%A1n%20distribuidos%20alrededor%20del%20c%C3%ADrculo%5Cn-%20Los%20colores%20opuestos%20en%20el%20c%C3%ADrculo%20son%20complementarios%5Cn-%20Utilizado%20en%20el%20mapeo%20del%20matiz%20en%20HSV%22%5D%0D%0A%20%20%20%20%0D%0A%20%20%20%20HSV%20-%3E%20Matiz%0D%0A%20%20%20%20Matiz%20-%3E%20MatizDetalles%0D%0A%20%20%20%20HSV%20-%3E%20Saturacion%0D%0A%20%20%20%20Saturacion%20-%3E%20SaturacionDetalles%0D%0A%20%20%20%20HSV%20-%3E%20Valor%0D%0A%20%20%20%20Valor%20-%3E%20ValorDetalles%0D%0A%20%20%20%20HSV%20-%3E%20Mapeo%0D%0A%20%20%20%20Mapeo%20-%3E%20MapeoDetalles%0D%0A%20%20%20%20HSV%20-%3E%20Ventajas%0D%0A%20%20%20%20Ventajas%20-%3E%20VentajasDetalles%0D%0A%20%20%20%20HSV%20-%3E%20CirculoCromatico%0D%0A%20%20%20%20CirculoCromatico%20-%3E%20CirculoCromaticoDetalles%0D%0A%7D%0D%0A"
   ]
  },
  {
   "cell_type": "code",
   "execution_count": null,
   "metadata": {},
   "outputs": [],
   "source": []
  }
 ],
 "metadata": {
  "kernelspec": {
   "display_name": ".clase",
   "language": "python",
   "name": "python3"
  },
  "language_info": {
   "codemirror_mode": {
    "name": "ipython",
    "version": 3
   },
   "file_extension": ".py",
   "mimetype": "text/x-python",
   "name": "python",
   "nbconvert_exporter": "python",
   "pygments_lexer": "ipython3",
   "version": "3.10.9"
  },
  "orig_nbformat": 4
 },
 "nbformat": 4,
 "nbformat_minor": 2
}
