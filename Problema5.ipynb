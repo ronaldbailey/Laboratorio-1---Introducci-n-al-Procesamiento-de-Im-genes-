{
 "cells": [
  {
   "cell_type": "markdown",
   "metadata": {},
   "source": [
    "El espacio de color HSV (Hue, Saturation, Value) es un modelo de color que se utiliza comúnmente en aplicaciones de gráficos por computadora y en la edición de imágenes digitales. En este modelo, los colores se representan en términos de su tono (Hue), saturación (Saturation) y valor (Value).\n",
    "\n",
    "Hue (H): Representa el color en sí. Se mide en grados, de 0 a 360, donde cada grado corresponde a un color en el espectro visible. Por ejemplo, 0 grados es rojo, 120 grados es verde y 240 grados es azul.\n",
    "\n",
    "Saturation (S): Representa la intensidad o pureza del color. Se mide en porcentaje, de 0 a 100. Un valor de saturación de 0% corresponde a un color completamente desaturado (gris), mientras que un valor de 100% corresponde a un color completamente saturado (puro).\n",
    "\n",
    "Value (V): Representa la luminosidad del color. También se mide en porcentaje, de 0 a 100. Un valor de 0% corresponde a negro (sin luz), mientras que un valor de 100% corresponde a la luminosidad máxima (blanco, si la saturación es 0).\n",
    "\n",
    "El espacio de color HSV se puede visualizar como un cilindro, donde el ángulo alrededor del eje vertical representa el tono, la distancia desde el eje representa la saturación, y la altura representa el valor.\n",
    "\n",
    "Para mapear colores en este espacio, se puede comenzar seleccionando un tono en el espectro visible, luego ajustar la saturación y el valor para obtener el color deseado. Por ejemplo, para obtener un color rojo puro, se seleccionaría un tono de 0 grados, una saturación de 100% y un valor de 100%."
   ]
  },
  {
   "cell_type": "markdown",
   "metadata": {},
   "source": []
  }
 ],
 "metadata": {
  "kernelspec": {
   "display_name": ".clase",
   "language": "python",
   "name": "python3"
  },
  "language_info": {
   "codemirror_mode": {
    "name": "ipython",
    "version": 3
   },
   "file_extension": ".py",
   "mimetype": "text/x-python",
   "name": "python",
   "nbconvert_exporter": "python",
   "pygments_lexer": "ipython3",
   "version": "3.10.9"
  },
  "orig_nbformat": 4
 },
 "nbformat": 4,
 "nbformat_minor": 2
}
