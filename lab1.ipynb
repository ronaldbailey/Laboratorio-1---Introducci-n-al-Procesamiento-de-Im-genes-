{
 "cells": [
  {
   "cell_type": "code",
   "execution_count": 1,
   "metadata": {},
   "outputs": [
    {
     "name": "stdout",
     "output_type": "stream",
     "text": [
      "[main f1312f2] primer commit\n",
      " 12 files changed, 0 insertions(+), 0 deletions(-)\n",
      " create mode 100644 Lab1/.DS_Store\n",
      " create mode 100644 Lab1/Laboratorio_1.pdf\n",
      " create mode 100644 Lab1/imagen1/imagen1_salida_gray_azul.jpg\n",
      " create mode 100644 Lab1/imagen1/imagen1_salida_gray_rojo.jpg\n",
      " create mode 100644 Lab1/imagen1/imagen1_salida_gray_verde.jpg\n",
      " create mode 100644 Lab1/imagen2/imagen2_salida_gray_azul.jpg\n",
      " create mode 100644 Lab1/imagen2/imagen2_salida_gray_rojo.jpg\n",
      " create mode 100644 Lab1/imagen2/imagen2_salida_gray_verde.jpg\n",
      " create mode 100644 Lab1/imagen3/perro_salida_gray_azul.jpg\n",
      " create mode 100644 Lab1/imagen3/perro_salida_gray_rojo.jpg\n",
      " create mode 100644 Lab1/imagen3/perro_salida_gray_verde.jpg\n",
      " create mode 100644 lab1.ipynb\n"
     ]
    },
    {
     "name": "stderr",
     "output_type": "stream",
     "text": [
      "To https://github.com/ronaldbailey/Laboratorio-1---Introducci-n-al-Procesamiento-de-Im-genes-.git\n",
      "   64a67d6..f1312f2  main -> main\n"
     ]
    }
   ],
   "source": [
    "! git add .\n",
    "! git commit -m \"primer commit\"\n",
    "! git push"
   ]
  }
 ],
 "metadata": {
  "kernelspec": {
   "display_name": ".clase",
   "language": "python",
   "name": "python3"
  },
  "language_info": {
   "codemirror_mode": {
    "name": "ipython",
    "version": 3
   },
   "file_extension": ".py",
   "mimetype": "text/x-python",
   "name": "python",
   "nbconvert_exporter": "python",
   "pygments_lexer": "ipython3",
   "version": "3.10.9"
  },
  "orig_nbformat": 4
 },
 "nbformat": 4,
 "nbformat_minor": 2
}
